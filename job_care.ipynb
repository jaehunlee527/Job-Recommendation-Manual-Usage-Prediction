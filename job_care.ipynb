{
 "cells": [
  {
   "cell_type": "code",
   "execution_count": 2,
   "id": "rK9s0GJd2SwT",
   "metadata": {
    "colab": {
     "base_uri": "https://localhost:8080/"
    },
    "gradient": {
     "editing": false,
     "execution_count": 2,
     "id": "rK9s0GJd2SwT",
     "kernelId": "1320fa5a-1933-4a5e-a640-3b7e7cc15806"
    },
    "id": "rK9s0GJd2SwT",
    "outputId": "5c501e24-dde6-434e-b064-f8fe9a9e642a"
   },
   "outputs": [],
   "source": [
    "%%capture\n",
    "!pip install category_encoders\n",
    "!pip install catboost\n",
    "!pip install optuna\n"
   ]
  },
  {
   "cell_type": "code",
   "execution_count": 3,
   "id": "62653618",
   "metadata": {
    "colab": {
     "base_uri": "https://localhost:8080/"
    },
    "gradient": {
     "editing": false,
     "execution_count": 3,
     "id": "62653618",
     "kernelId": "1320fa5a-1933-4a5e-a640-3b7e7cc15806"
    },
    "id": "62653618",
    "outputId": "509a50fb-935b-42b5-a764-de858d21e26f"
   },
   "outputs": [],
   "source": [
    "import pandas as pd\n",
    "import numpy as np\n",
    "import matplotlib.pyplot as plt\n",
    "import category_encoders as ce\n",
    "import optuna\n",
    "\n",
    "from sklearn.ensemble import RandomForestClassifier\n",
    "from sklearn.svm import SVC\n",
    "from sklearn.model_selection import cross_val_score, train_test_split, RandomizedSearchCV, KFold\n",
    "from sklearn.preprocessing import StandardScaler, MinMaxScaler, OneHotEncoder\n",
    "from sklearn.metrics import f1_score\n",
    "from sklearn.linear_model import LogisticRegression\n",
    "from sklearn.discriminant_analysis import LinearDiscriminantAnalysis\n",
    "from sklearn.decomposition import PCA\n",
    "\n",
    "from xgboost import XGBClassifier\n",
    "from catboost import CatBoostClassifier\n"
   ]
  },
  {
   "cell_type": "code",
   "execution_count": 4,
   "id": "633767f4",
   "metadata": {
    "gradient": {
     "editing": false,
     "execution_count": 4,
     "id": "633767f4",
     "kernelId": "1320fa5a-1933-4a5e-a640-3b7e7cc15806"
    },
    "id": "633767f4"
   },
   "outputs": [],
   "source": [
    "df_train = pd.read_csv(\"train.csv\")\n",
    "df_test = pd.read_csv(\"test.csv\")\n",
    "d_code = pd.read_csv(\"속성_D_코드.csv\")\n",
    "h_code = pd.read_csv(\"속성_H_코드.csv\")\n",
    "l_code = pd.read_csv(\"속성_L_코드.csv\")\n",
    "\n",
    "d_code.set_index('속성 D 코드', inplace=True)\n",
    "d_code = d_code.T.to_dict()\n",
    "h_code.set_index('속성 H 코드', inplace=True)\n",
    "h_code = h_code.T.to_dict()\n",
    "l_code.set_index('속성 L 코드', inplace=True)\n",
    "l_code = l_code.T.to_dict()\n",
    "\n",
    "# Sort df_train by date\n",
    "df_train['contents_open_dt'] = pd.to_datetime(df_train['contents_open_dt'])\n",
    "df_train.sort_values(by='contents_open_dt', inplace=True)"
   ]
  },
  {
   "cell_type": "code",
   "execution_count": 5,
   "id": "6a585e4e",
   "metadata": {
    "gradient": {
     "editing": false,
     "execution_count": 5,
     "id": "6a585e4e",
     "kernelId": "1320fa5a-1933-4a5e-a640-3b7e7cc15806"
    },
    "id": "6a585e4e"
   },
   "outputs": [],
   "source": [
    "def add_codes(df, d_code, h_code, l_code):\n",
    "    \n",
    "    # D section encoding \n",
    "    df['person_prefer_d_1_l'] = df['person_prefer_d_1'].apply(lambda x: d_code[x]['속성 D 대분류코드'])\n",
    "    df['person_prefer_d_1_m'] = df['person_prefer_d_1'].apply(lambda x: d_code[x]['속성 D 중분류코드'])    \n",
    "    df['person_prefer_d_1_s'] = df['person_prefer_d_1'].apply(lambda x: d_code[x]['속성 D 소분류코드'])    \n",
    "    df['person_prefer_d_1_n'] = df['person_prefer_d_1'].apply(lambda x: d_code[x]['속성 D 세분류코드'])\n",
    "    \n",
    "    df['person_prefer_d_2_l'] = df['person_prefer_d_2'].apply(lambda x: d_code[x]['속성 D 대분류코드'])\n",
    "    df['person_prefer_d_2_m'] = df['person_prefer_d_2'].apply(lambda x: d_code[x]['속성 D 중분류코드'])    \n",
    "    df['person_prefer_d_2_s'] = df['person_prefer_d_2'].apply(lambda x: d_code[x]['속성 D 소분류코드'])    \n",
    "    df['person_prefer_d_2_n'] = df['person_prefer_d_2'].apply(lambda x: d_code[x]['속성 D 세분류코드'])\n",
    "    \n",
    "    df['person_prefer_d_3_l'] = df['person_prefer_d_3'].apply(lambda x: d_code[x]['속성 D 대분류코드'])\n",
    "    df['person_prefer_d_3_m'] = df['person_prefer_d_3'].apply(lambda x: d_code[x]['속성 D 중분류코드'])    \n",
    "    df['person_prefer_d_3_s'] = df['person_prefer_d_3'].apply(lambda x: d_code[x]['속성 D 소분류코드'])    \n",
    "    df['person_prefer_d_3_n'] = df['person_prefer_d_3'].apply(lambda x: d_code[x]['속성 D 세분류코드'])\n",
    "    \n",
    "    df['contents_attribute_d_l'] = df['contents_attribute_d'].apply(lambda x: d_code[x]['속성 D 대분류코드'])\n",
    "    df['contents_attribute_d_m'] = df['contents_attribute_d'].apply(lambda x: d_code[x]['속성 D 중분류코드'])    \n",
    "    df['contents_attribute_d_s'] = df['contents_attribute_d'].apply(lambda x: d_code[x]['속성 D 소분류코드'])    \n",
    "    df['contents_attribute_d_n'] = df['contents_attribute_d'].apply(lambda x: d_code[x]['속성 D 세분류코드'])\n",
    "    \n",
    "    # H section encoding \n",
    "    df['person_prefer_h_1_l'] = df['person_prefer_h_1'].apply(lambda x: h_code[x]['속성 H 대분류코드'])\n",
    "    df['person_prefer_h_1_m'] = df['person_prefer_h_1'].apply(lambda x: h_code[x]['속성 H 중분류코드'])\n",
    "    \n",
    "    df['person_prefer_h_2_l'] = df['person_prefer_h_2'].apply(lambda x: h_code[x]['속성 H 대분류코드'])\n",
    "    df['person_prefer_h_2_m'] = df['person_prefer_h_2'].apply(lambda x: h_code[x]['속성 H 중분류코드'])    \n",
    "\n",
    "    df['person_prefer_h_3_l'] = df['person_prefer_h_3'].apply(lambda x: h_code[x]['속성 H 대분류코드'])\n",
    "    df['person_prefer_h_3_m'] = df['person_prefer_h_3'].apply(lambda x: h_code[x]['속성 H 중분류코드'])   \n",
    "    \n",
    "    df['contents_attribute_h_l'] = df['contents_attribute_h'].apply(lambda x: h_code[x]['속성 H 대분류코드'])\n",
    "    df['contents_attribute_h_m'] = df['contents_attribute_h'].apply(lambda x: h_code[x]['속성 H 중분류코드'])   \n",
    "    \n",
    "    # L section encoding\n",
    "    df['contents_attribute_l_l'] = df['contents_attribute_l'].apply(lambda x: l_code[x]['속성 L 대분류코드'])\n",
    "    df['contents_attribute_l_m'] = df['contents_attribute_l'].apply(lambda x: l_code[x]['속성 L 중분류코드'])    \n",
    "    df['contents_attribute_l_s'] = df['contents_attribute_l'].apply(lambda x: l_code[x]['속성 L 소분류코드'])    \n",
    "    df['contents_attribute_l_n'] = df['contents_attribute_l'].apply(lambda x: l_code[x]['속성 L 세분류코드'])\n",
    "   \n",
    "    return df\n",
    "\n",
    "df_train = add_codes(df_train, d_code, h_code, l_code)\n",
    "df_test = add_codes(df_test, d_code, h_code, l_code)\n",
    "\n",
    "# Drop unnecessary columns\n",
    "df_train.drop(['id','person_rn','contents_rn'], axis=1, inplace=True)\n",
    "df_test.drop(['id','person_rn','contents_rn'], axis=1, inplace=True)\n",
    "\n",
    "# Drop columns with only one unique value\n",
    "unique_cols = [col for col in df_train.columns if df_train[col].nunique() == 1]\n",
    "df_train.drop(unique_cols, axis=1, inplace=True)\n",
    "df_test.drop(unique_cols, axis=1, inplace=True)"
   ]
  },
  {
   "cell_type": "markdown",
   "id": "ad4e8a7d",
   "metadata": {
    "gradient": {
     "editing": false,
     "id": "ad4e8a7d",
     "kernelId": "1320fa5a-1933-4a5e-a640-3b7e7cc15806"
    },
    "id": "ad4e8a7d"
   },
   "source": [
    "## EDA"
   ]
  },
  {
   "cell_type": "code",
   "execution_count": 6,
   "id": "d5f016e3",
   "metadata": {
    "colab": {
     "base_uri": "https://localhost:8080/",
     "height": 297
    },
    "gradient": {
     "editing": false,
     "id": "d5f016e3",
     "kernelId": "1320fa5a-1933-4a5e-a640-3b7e7cc15806",
     "source_hidden": false
    },
    "id": "d5f016e3",
    "outputId": "de11539f-4ee7-4dc8-d186-c6c2a063989d"
   },
   "outputs": [
    {
     "data": {
      "text/plain": [
       "Text(0, 0.5, 'Count')"
      ]
     },
     "execution_count": 6,
     "metadata": {},
     "output_type": "execute_result"
    },
    {
     "data": {
      "image/png": "[encoded data removed]",
      "text/plain": [
       "<Figure size 432x288 with 1 Axes>"
      ]
     },
     "metadata": {
      "needs_background": "light"
     },
     "output_type": "display_data"
    }
   ],
   "source": [
    "# Distribution of target\n",
    "ax = df_train.target.value_counts().plot.bar(rot=0)\n",
    "ax.set_xlabel('Target')\n",
    "ax.set_ylabel('Count')"
   ]
  },
  {
   "cell_type": "markdown",
   "id": "353b8392",
   "metadata": {
    "gradient": {
     "editing": false,
     "id": "353b8392",
     "kernelId": "1320fa5a-1933-4a5e-a640-3b7e7cc15806"
    },
    "id": "353b8392"
   },
   "source": [
    "Almost same number of 0 and 1 targets\n",
    "\n",
    "The PDF guide tells us that most of the answer codes on the surveys are non-ordinal, except for person_attribute_a_1, person_attribute_b, person_prefer_e and contents_attribute_e columns. First, let's see if the ordinality in these features is relevant to the target outcome.   "
   ]
  },
  {
   "cell_type": "code",
   "execution_count": 7,
   "id": "79b0b0c0",
   "metadata": {
    "colab": {
     "base_uri": "https://localhost:8080/",
     "height": 1000
    },
    "gradient": {
     "editing": false,
     "execution_count": 6,
     "id": "79b0b0c0",
     "kernelId": "1320fa5a-1933-4a5e-a640-3b7e7cc15806"
    },
    "id": "79b0b0c0",
    "outputId": "ddfa4404-e46c-4ecf-9b71-8f2a894a7615"
   },
   "outputs": [
    {
     "data": {
      "image/png": "[encoded data removed]",
      "text/plain": [
       "<Figure size 432x288 with 1 Axes>"
      ]
     },
     "metadata": {
      "needs_background": "light"
     },
     "output_type": "display_data"
    },
    {
     "data": {
      "image/png": "[encoded data removed]",
      "text/plain": [
       "<Figure size 432x288 with 1 Axes>"
      ]
     },
     "metadata": {
      "needs_background": "light"
     },
     "output_type": "display_data"
    },
    {
     "data": {
      "image/png": "[encoded data removed]",
      "text/plain": [
       "<Figure size 432x288 with 1 Axes>"
      ]
     },
     "metadata": {
      "needs_background": "light"
     },
     "output_type": "display_data"
    },
    {
     "data": {
      "image/png": "[encoded data removed]",
      "text/plain": [
       "<Figure size 432x288 with 1 Axes>"
      ]
     },
     "metadata": {
      "needs_background": "light"
     },
     "output_type": "display_data"
    }
   ],
   "source": [
    "ordinal_cols = ['person_attribute_a_1', 'person_attribute_b', 'person_prefer_e', 'contents_attribute_e'] \n",
    "\n",
    "for col in ordinal_cols: \n",
    "    res = df_train.groupby([col])['target'].sum() / df_train.groupby([col])['target'].count()\n",
    "    plt.bar(res.index, res)\n",
    "    plt.title(col)\n",
    "    plt.ylabel(\"Target 1 %\")\n",
    "    plt.show()"
   ]
  },
  {
   "cell_type": "code",
   "execution_count": 8,
   "id": "fe18299e",
   "metadata": {
    "colab": {
     "base_uri": "https://localhost:8080/",
     "height": 1000
    },
    "gradient": {
     "editing": false,
     "execution_count": 7,
     "id": "fe18299e",
     "kernelId": "1320fa5a-1933-4a5e-a640-3b7e7cc15806"
    },
    "id": "fe18299e",
    "outputId": "8fe56590-4479-4558-cfa0-9475f0ea5a77"
   },
   "outputs": [
    {
     "data": {
      "text/plain": [
       "d_l_match_yn\n",
       "0    0.407038\n",
       "1    0.554633\n",
       "Name: target, dtype: float64"
      ]
     },
     "metadata": {},
     "output_type": "display_data"
    },
    {
     "data": {
      "text/plain": [
       "d_m_match_yn\n",
       "0    0.464081\n",
       "1    0.598030\n",
       "Name: target, dtype: float64"
      ]
     },
     "metadata": {},
     "output_type": "display_data"
    },
    {
     "data": {
      "text/plain": [
       "d_s_match_yn\n",
       "0    0.481347\n",
       "1    0.604024\n",
       "Name: target, dtype: float64"
      ]
     },
     "metadata": {},
     "output_type": "display_data"
    },
    {
     "data": {
      "text/plain": [
       "h_l_match_yn\n",
       "0    0.481011\n",
       "1    0.504553\n",
       "Name: target, dtype: float64"
      ]
     },
     "metadata": {},
     "output_type": "display_data"
    },
    {
     "data": {
      "text/plain": [
       "h_m_match_yn\n",
       "0    0.498124\n",
       "1    0.502553\n",
       "Name: target, dtype: float64"
      ]
     },
     "metadata": {},
     "output_type": "display_data"
    },
    {
     "data": {
      "text/plain": [
       "h_s_match_yn\n",
       "0    0.49781\n",
       "1    0.50490\n",
       "Name: target, dtype: float64"
      ]
     },
     "metadata": {},
     "output_type": "display_data"
    },
    {
     "data": {
      "image/png": "[encoded data removed]",
      "text/plain": [
       "<Figure size 432x288 with 1 Axes>"
      ]
     },
     "metadata": {
      "needs_background": "light"
     },
     "output_type": "display_data"
    },
    {
     "data": {
      "image/png": "[encoded data removed]",
      "text/plain": [
       "<Figure size 432x288 with 1 Axes>"
      ]
     },
     "metadata": {
      "needs_background": "light"
     },
     "output_type": "display_data"
    },
    {
     "data": {
      "image/png": "[encoded data removed]",
      "text/plain": [
       "<Figure size 432x288 with 1 Axes>"
      ]
     },
     "metadata": {
      "needs_background": "light"
     },
     "output_type": "display_data"
    },
    {
     "data": {
      "image/png": "[encoded data removed]",
      "text/plain": [
       "<Figure size 432x288 with 1 Axes>"
      ]
     },
     "metadata": {
      "needs_background": "light"
     },
     "output_type": "display_data"
    },
    {
     "data": {
      "image/png": "[encoded data removed]",
      "text/plain": [
       "<Figure size 432x288 with 1 Axes>"
      ]
     },
     "metadata": {
      "needs_background": "light"
     },
     "output_type": "display_data"
    },
    {
     "data": {
      "image/png": "[encoded data removed]",
      "text/plain": [
       "<Figure size 432x288 with 1 Axes>"
      ]
     },
     "metadata": {
      "needs_background": "light"
     },
     "output_type": "display_data"
    }
   ],
   "source": [
    "# Boolean columns \n",
    "bool_cols = ['d_l_match_yn', 'd_m_match_yn', 'd_s_match_yn', 'h_l_match_yn', 'h_m_match_yn', 'h_s_match_yn']\n",
    "\n",
    "df_train[bool_cols] = df_train[bool_cols].astype('int64')\n",
    "df_test[bool_cols] = df_test[bool_cols].astype('int64')\n",
    "\n",
    "# See boolean cols correlation to target\n",
    "for col in bool_cols:\n",
    "    ct = pd.crosstab(df_train[col], df_train['target'])\n",
    "    ct.plot(kind='bar', stacked=True, rot=0)\n",
    "    plt.title(col)\n",
    "    plt.plot()\n",
    "\n",
    "for col in bool_cols:\n",
    "    res = df_train.groupby([col])['target'].sum() / df_train.groupby([col])['target'].count()\n",
    "    display(res)\n",
    "\n"
   ]
  },
  {
   "cell_type": "code",
   "execution_count": 9,
   "id": "bc32b8c9-dfbe-4b3c-9276-3b17b83d5409",
   "metadata": {
    "colab": {
     "base_uri": "https://localhost:8080/",
     "height": 280
    },
    "gradient": {
     "editing": false,
     "execution_count": 8,
     "id": "bc32b8c9-dfbe-4b3c-9276-3b17b83d5409",
     "kernelId": "1320fa5a-1933-4a5e-a640-3b7e7cc15806"
    },
    "id": "73037a80",
    "outputId": "527a9294-0c1d-4daa-bde6-f2ce8b194e23"
   },
   "outputs": [
    {
     "data": {
      "text/plain": [
       "[]"
      ]
     },
     "execution_count": 9,
     "metadata": {},
     "output_type": "execute_result"
    },
    {
     "data": {
      "image/png": "[encoded data removed]",
      "text/plain": [
       "<Figure size 432x288 with 1 Axes>"
      ]
     },
     "metadata": {
      "needs_background": "light"
     },
     "output_type": "display_data"
    }
   ],
   "source": [
    "# Add content open hour column\n",
    "df_train['contents_open_hr'] = pd.to_datetime(df_train.contents_open_dt).dt.hour\n",
    "df_test['contents_open_hr'] = pd.to_datetime(df_test.contents_open_dt).dt.hour\n",
    "\n",
    "# Drop contents open dt\n",
    "df_train.drop(['contents_open_dt'], axis=1, inplace=True)\n",
    "df_test.drop(['contents_open_dt'], axis=1, inplace=True)\n",
    "\n",
    "# Conversion by hours\n",
    "hourly = df_train.groupby(['contents_open_hr'])['target'].sum() / df_train.groupby(['contents_open_hr'])['target'].count()\n",
    "hourly.plot.bar(rot=0)\n",
    "plt.ylabel('Target 1 %')\n",
    "plt.plot()\n",
    "\n"
   ]
  },
  {
   "cell_type": "markdown",
   "id": "b2bc4309",
   "metadata": {
    "gradient": {
     "editing": false,
     "id": "b2bc4309",
     "kernelId": "1320fa5a-1933-4a5e-a640-3b7e7cc15806"
    },
    "id": "b2bc4309"
   },
   "source": [
    "We can see that users are more likely to use the content during the daytime"
   ]
  },
  {
   "cell_type": "code",
   "execution_count": 10,
   "id": "00b878f5",
   "metadata": {
    "gradient": {
     "editing": false,
     "execution_count": 9,
     "id": "00b878f5",
     "kernelId": "1320fa5a-1933-4a5e-a640-3b7e7cc15806",
     "source_hidden": false
    },
    "id": "00b878f5"
   },
   "outputs": [],
   "source": [
    "# Onehot Encode cat columns with number of unique values < 5 and non ordinal\n",
    "cat_cols_small = [col for col in df_train.columns if col not in bool_cols + ordinal_cols + ['target']\n",
    "                  and df_train[col].nunique() < 6]\n",
    "cat_cols_large = [col for col in df_train.columns if col not in bool_cols + ordinal_cols + ['target']\n",
    "                  and df_train[col].nunique() >= 6]"
   ]
  },
  {
   "cell_type": "code",
   "execution_count": 11,
   "id": "02fd5872",
   "metadata": {
    "gradient": {
     "editing": false,
     "id": "02fd5872",
     "kernelId": "1320fa5a-1933-4a5e-a640-3b7e7cc15806",
     "source_hidden": false
    },
    "id": "02fd5872"
   },
   "outputs": [
    {
     "data": {
      "text/plain": [
       "\"\\nenc = OneHotEncoder(handle_unknown='ignore')\\nencoded = pd.DataFrame(enc.fit_transform(df_train[cat_cols_small]).toarray())\\ncol_names = enc.get_feature_names_out()\\ndf_train[col_names] = encoded\\n\\nencoded = pd.DataFrame(enc.transform(df_test[cat_cols_small]).toarray())\\ncol_names = enc.get_feature_names_out()\\ndf_test[col_names] = encoded\\n\\ndf_train.drop(cat_cols_small, axis=1, inplace=True)\\ndf_test.drop(cat_cols_small, axis=1, inplace=True)\\n\""
      ]
     },
     "execution_count": 11,
     "metadata": {},
     "output_type": "execute_result"
    }
   ],
   "source": [
    "\"\"\"\n",
    "enc = OneHotEncoder(handle_unknown='ignore')\n",
    "encoded = pd.DataFrame(enc.fit_transform(df_train[cat_cols_small]).toarray())\n",
    "col_names = enc.get_feature_names_out()\n",
    "df_train[col_names] = encoded\n",
    "\n",
    "encoded = pd.DataFrame(enc.transform(df_test[cat_cols_small]).toarray())\n",
    "col_names = enc.get_feature_names_out()\n",
    "df_test[col_names] = encoded\n",
    "\n",
    "df_train.drop(cat_cols_small, axis=1, inplace=True)\n",
    "df_test.drop(cat_cols_small, axis=1, inplace=True)\n",
    "\"\"\""
   ]
  },
  {
   "cell_type": "code",
   "execution_count": 12,
   "id": "e8a05c2e",
   "metadata": {
    "gradient": {
     "editing": false,
     "id": "e8a05c2e",
     "kernelId": "1320fa5a-1933-4a5e-a640-3b7e7cc15806",
     "source_hidden": false
    },
    "id": "e8a05c2e",
    "outputId": "ae7d02af-6a1d-4e58-c2fe-c83ee9390221"
   },
   "outputs": [
    {
     "data": {
      "text/plain": [
       "\"\\ntmp = X_train[cat_cols_large].astype('str')\\nenc = ce.TargetEncoder(handle_unknown='value')\\nX_train[cat_cols_large] = enc.fit_transform(tmp, y_train)\\nX_test[cat_cols_large] = enc.transform(X_test[cat_cols_large].astype('str'))\\n\""
      ]
     },
     "execution_count": 12,
     "metadata": {},
     "output_type": "execute_result"
    }
   ],
   "source": [
    "\"\"\"\n",
    "tmp = X_train[cat_cols_large].astype('str')\n",
    "enc = ce.TargetEncoder(handle_unknown='value')\n",
    "X_train[cat_cols_large] = enc.fit_transform(tmp, y_train)\n",
    "X_test[cat_cols_large] = enc.transform(X_test[cat_cols_large].astype('str'))\n",
    "\"\"\""
   ]
  },
  {
   "cell_type": "code",
   "execution_count": null,
   "id": "eae55669",
   "metadata": {
    "gradient": {
     "editing": false,
     "execution_count": 10,
     "id": "eae55669",
     "kernelId": "1320fa5a-1933-4a5e-a640-3b7e7cc15806",
     "source_hidden": false
    },
    "id": "eae55669"
   },
   "outputs": [
    {
     "name": "stderr",
     "output_type": "stream",
     "text": [
      "C:\\Users\\leeja\\anaconda3\\envs\\py37\\lib\\site-packages\\ipykernel_launcher.py:13: UserWarning: Matplotlib is currently using module://matplotlib_inline.backend_inline, which is a non-GUI backend, so cannot show the figure.\n",
      "  del sys.path[0]\n"
     ]
    }
   ],
   "source": [
    "# All non-boolean, non-ordinal columns\n",
    "cat_cols_all = [col for col in df_train.columns if col not in bool_cols + ordinal_cols + ['target']]\n",
    "\n",
    "for col in cat_cols_all:\n",
    "    df_train[col] = df_train[col].astype('str')\n",
    "\n",
    "fig, ax = plt.subplots(10,5, figsize=(,40))\n",
    "for i,col in enumerate(cat_cols_all):\n",
    "    res = df_train.groupby([col])['target'].sum() / df_train.groupby([col])['target'].count()\n",
    "    ax[int(i/5)][int(i%5)].bar(res.index,res)\n",
    "    ax[int(i/5)][int(i%5)].set_title(col)\n",
    "fig.tight_layout(pad=3.0)\n",
    "fig.show()\n"
   ]
  },
  {
   "cell_type": "markdown",
   "id": "deaeeb5d-e463-4bfd-a845-4d7ef1633e6c",
   "metadata": {
    "gradient": {
     "editing": false,
     "id": "deaeeb5d-e463-4bfd-a845-4d7ef1633e6c",
     "kernelId": "1320fa5a-1933-4a5e-a640-3b7e7cc15806"
    }
   },
   "source": [
    "The plot above shows the ratio of target 1 & 0 for each variable in respective features. \n",
    "We can see that some of the features are highly correlated with the target, whereas others \n",
    "are not."
   ]
  },
  {
   "cell_type": "code",
   "execution_count": null,
   "id": "0ccb6f0c-1c72-476f-931d-a49e87fd1c4b",
   "metadata": {
    "gradient": {
     "editing": false,
     "id": "0ccb6f0c-1c72-476f-931d-a49e87fd1c4b",
     "kernelId": "1320fa5a-1933-4a5e-a640-3b7e7cc15806",
     "source_hidden": false
    }
   },
   "outputs": [],
   "source": [
    "# Columns to further remove - lack of target correlation\n",
    "cols_remove = ['person_attribute_a','contents_attribute_a'\n",
    "            ,'contents_attribute_i','contents_attribute_m']\n",
    "\n",
    "df_train.drop(cols_remove, axis=1, inplace=True)\n",
    "df_test.drop(cols_remove, axis=1, inplace=True)"
   ]
  },
  {
   "cell_type": "code",
   "execution_count": null,
   "id": "a99026e5",
   "metadata": {
    "gradient": {
     "editing": false,
     "execution_count": 10,
     "id": "a99026e5",
     "kernelId": "1320fa5a-1933-4a5e-a640-3b7e7cc15806"
    },
    "id": "a99026e5"
   },
   "outputs": [],
   "source": [
    "X_train = df_train.drop(['target'], axis=1)\n",
    "y_train = df_train['target']\n",
    "X_test = df_test.copy()"
   ]
  },
  {
   "cell_type": "markdown",
   "id": "d646e29f",
   "metadata": {
    "gradient": {
     "editing": false,
     "id": "d646e29f",
     "kernelId": "1320fa5a-1933-4a5e-a640-3b7e7cc15806"
    },
    "id": "d646e29f"
   },
   "source": [
    "## Modeling\n",
    "\n",
    "* Random Forest Classifier\n",
    "* Logistic Regression\n",
    "* SVC \n",
    "* XGB Classifier\n",
    "* LDA\n",
    "* Catboost Classifier"
   ]
  },
  {
   "cell_type": "code",
   "execution_count": null,
   "id": "13ed7d8f",
   "metadata": {
    "gradient": {
     "editing": false,
     "execution_count": 12,
     "id": "13ed7d8f",
     "kernelId": "1320fa5a-1933-4a5e-a640-3b7e7cc15806"
    },
    "id": "13ed7d8f"
   },
   "outputs": [
    {
     "data": {
      "text/plain": [
       "'\\n# Standard Scaling \\nscaler = StandardScaler()\\n\\nX_train_scaled = pd.DataFrame(scaler.fit_transform(X_train))\\nX_valid_scaled = pd.DataFrame(scaler.transform(X_valid))\\nX_test_scaled = pd.DataFrame(scaler.transform(X_test))\\n\\nX_train_new_scaled = pd.DataFrame(scaler.transform(X_train_new))\\n'"
      ]
     },
     "execution_count": 12,
     "metadata": {},
     "output_type": "execute_result"
    }
   ],
   "source": [
    "# Train valid split - by date\n",
    "X_train_new, X_valid = np.split(X_train, [int(0.9 *len(X_train))])\n",
    "y_train_new, y_valid = np.split(y_train, [int(0.9 *len(y_train))])\n",
    "\n",
    "# Standard Scaling \n",
    "scaler = StandardScaler()\n",
    "\n",
    "X_train_scaled = pd.DataFrame(scaler.fit_transform(X_train))\n",
    "X_valid_scaled = pd.DataFrame(scaler.transform(X_valid))\n",
    "X_test_scaled = pd.DataFrame(scaler.transform(X_test))\n",
    "\n",
    "X_train_new_scaled = pd.DataFrame(scaler.transform(X_train_new))\n",
    "\n"
   ]
  },
  {
   "cell_type": "code",
   "execution_count": null,
   "id": "17500ece",
   "metadata": {
    "gradient": {
     "editing": false,
     "id": "17500ece",
     "kernelId": "1320fa5a-1933-4a5e-a640-3b7e7cc15806"
    },
    "id": "17500ece"
   },
   "outputs": [
    {
     "data": {
      "text/plain": [
       "'\\nrf = RandomForestClassifier(n_estimators=200, n_jobs=-1, verbose=10)\\nrf.fit(X_train_new, y_train_new)\\ny_pred = rf.predict(X_valid)\\n'"
      ]
     },
     "execution_count": 19,
     "metadata": {},
     "output_type": "execute_result"
    }
   ],
   "source": [
    "\"\"\"\n",
    "rf = RandomForestClassifier(n_estimators=200, n_jobs=-1, verbose=10)\n",
    "rf.fit(X_train_new, y_train_new)\n",
    "y_pred = rf.predict(X_valid)\n",
    "\"\"\""
   ]
  },
  {
   "cell_type": "code",
   "execution_count": null,
   "id": "41fa6e62",
   "metadata": {
    "gradient": {
     "editing": false,
     "id": "41fa6e62",
     "kernelId": "1320fa5a-1933-4a5e-a640-3b7e7cc15806"
    },
    "id": "41fa6e62"
   },
   "outputs": [
    {
     "data": {
      "text/plain": [
       "\"\\nparams = {'n_estimators':[100,200,300], 'min_samples_split':[2,3,4]}\\nreg = RandomizedSearchCV(rf, params, n_iter=5, cv=5, scoring='f1', n_jobs=-1, verbose=10)\\nreg.fit(X_train_new_sampled, y_train_new_sampled)\\n\\ny_pred = rf.predict(X_valid)\\n\""
      ]
     },
     "execution_count": 20,
     "metadata": {},
     "output_type": "execute_result"
    }
   ],
   "source": [
    "\"\"\"\n",
    "params = {'n_estimators':[100,200,300], 'min_samples_split':[2,3,4]}\n",
    "reg = RandomizedSearchCV(rf, params, n_iter=5, cv=5, scoring='f1', n_jobs=-1, verbose=10)\n",
    "reg.fit(X_train_new_sampled, y_train_new_sampled)\n",
    "\n",
    "y_pred = rf.predict(X_valid)\n",
    "\"\"\""
   ]
  },
  {
   "cell_type": "code",
   "execution_count": null,
   "id": "805914f6",
   "metadata": {
    "gradient": {
     "editing": false,
     "id": "805914f6",
     "kernelId": "1320fa5a-1933-4a5e-a640-3b7e7cc15806"
    },
    "id": "805914f6"
   },
   "outputs": [
    {
     "data": {
      "text/plain": [
       "'\\n# Logistic Regression\\nlog = LogisticRegression(n_jobs=-1, verbose=True)\\nlog.fit(X_train_new_scaled, y_train_new)\\ny_pred = log.predict(X_valid_scaled)\\n'"
      ]
     },
     "execution_count": 21,
     "metadata": {},
     "output_type": "execute_result"
    }
   ],
   "source": [
    "\"\"\"\n",
    "# Logistic Regression\n",
    "log = LogisticRegression(n_jobs=-1, verbose=True)\n",
    "log.fit(X_train_new_scaled, y_train_new)\n",
    "y_pred = log.predict(X_valid_scaled)\n",
    "\"\"\""
   ]
  },
  {
   "cell_type": "code",
   "execution_count": null,
   "id": "cd424a64",
   "metadata": {
    "gradient": {
     "editing": false,
     "id": "cd424a64",
     "kernelId": "1320fa5a-1933-4a5e-a640-3b7e7cc15806"
    },
    "id": "cd424a64"
   },
   "outputs": [
    {
     "data": {
      "text/plain": [
       "'\\n# Use PCA to reduce dimension \\npca = PCA(n_components=25)\\nX_train_reduced = pd.DataFrame(pca.fit_transform(X_train_scaled))\\nX_valid_reduced = pd.DataFrame(pca.transform(X_valid_scaled))\\nX_test_reduced = pd.DataFrame(pca.transform(X_test_scaled))\\n\\npca.explained_variance_ratio_.sum()\\n'"
      ]
     },
     "execution_count": 22,
     "metadata": {},
     "output_type": "execute_result"
    }
   ],
   "source": [
    "\"\"\"\n",
    "# Use PCA to reduce dimension \n",
    "pca = PCA(n_components=25)\n",
    "X_train_reduced = pd.DataFrame(pca.fit_transform(X_train_scaled))\n",
    "X_valid_reduced = pd.DataFrame(pca.transform(X_valid_scaled))\n",
    "X_test_reduced = pd.DataFrame(pca.transform(X_test_scaled))\n",
    "\n",
    "pca.explained_variance_ratio_.sum()\n",
    "\"\"\""
   ]
  },
  {
   "cell_type": "code",
   "execution_count": null,
   "id": "599580ef",
   "metadata": {
    "gradient": {
     "editing": false,
     "id": "599580ef",
     "kernelId": "1320fa5a-1933-4a5e-a640-3b7e7cc15806"
    },
    "id": "599580ef"
   },
   "outputs": [
    {
     "data": {
      "text/plain": [
       "\"\\nsvc = SVC(kernel='linear')\\nsvc.fit(X_train_scaled_sampled, y_train_sampled)\\ny_pred = svc.predict(X_valid_scaled)\\n\""
      ]
     },
     "execution_count": 23,
     "metadata": {},
     "output_type": "execute_result"
    }
   ],
   "source": [
    "\"\"\"\n",
    "svc = SVC(kernel='linear')\n",
    "svc.fit(X_train_scaled_sampled, y_train_sampled)\n",
    "y_pred = svc.predict(X_valid_scaled)\n",
    "\"\"\""
   ]
  },
  {
   "cell_type": "code",
   "execution_count": null,
   "id": "a1b75564",
   "metadata": {
    "gradient": {
     "editing": false,
     "id": "a1b75564",
     "kernelId": "1320fa5a-1933-4a5e-a640-3b7e7cc15806"
    },
    "id": "a1b75564"
   },
   "outputs": [
    {
     "data": {
      "text/plain": [
       "'\\n# XGB Classifier\\nxgb = XGBClassifier(n_estimators=200, learning_rate=0.1, early_stopping_rounds=5, n_jobs=-1, verbosity=3)\\nxgb.fit(X_train_new_scaled, y_train_new)\\ny_pred = xgb.predict(X_valid_scaled)\\n'"
      ]
     },
     "execution_count": 24,
     "metadata": {},
     "output_type": "execute_result"
    }
   ],
   "source": [
    "\"\"\"\n",
    "# XGB Classifier\n",
    "xgb = XGBClassifier(n_estimators=200, learning_rate=0.1, early_stopping_rounds=5, n_jobs=-1, verbosity=3)\n",
    "xgb.fit(X_train_new_scaled, y_train_new)\n",
    "y_pred = xgb.predict(X_valid_scaled)\n",
    "\"\"\""
   ]
  },
  {
   "cell_type": "code",
   "execution_count": null,
   "id": "678fc6a7",
   "metadata": {
    "gradient": {
     "editing": false,
     "id": "678fc6a7",
     "kernelId": "1320fa5a-1933-4a5e-a640-3b7e7cc15806"
    },
    "id": "678fc6a7"
   },
   "outputs": [
    {
     "data": {
      "text/plain": [
       "\"\\nparams = {'learning_rate':[0.01,0.1,0.2,0.3]}\\nreg = RandomizedSearchCV(xgb, params, n_iter=3, cv=5, scoring='f1', n_jobs=-1, verbose=10)\\nreg.fit(X_train_new_sampled, y_train_new_sampled)\\nreg.cv_results_\\n\""
      ]
     },
     "execution_count": 25,
     "metadata": {},
     "output_type": "execute_result"
    }
   ],
   "source": [
    "\"\"\"\n",
    "params = {'learning_rate':[0.01,0.1,0.2,0.3]}\n",
    "reg = RandomizedSearchCV(xgb, params, n_iter=3, cv=5, scoring='f1', n_jobs=-1, verbose=10)\n",
    "reg.fit(X_train_new_sampled, y_train_new_sampled)\n",
    "reg.cv_results_\n",
    "\"\"\""
   ]
  },
  {
   "cell_type": "code",
   "execution_count": null,
   "id": "1e9c8547",
   "metadata": {
    "gradient": {
     "editing": false,
     "id": "1e9c8547",
     "kernelId": "1320fa5a-1933-4a5e-a640-3b7e7cc15806"
    },
    "id": "1e9c8547"
   },
   "outputs": [
    {
     "data": {
      "text/plain": [
       "'\\n# LDA\\nclf = LinearDiscriminantAnalysis()\\nclf.fit(X_train_new_scaled, y_train_new)\\ny_pred = clf.predict(X_valid_scaled)\\n'"
      ]
     },
     "execution_count": 26,
     "metadata": {},
     "output_type": "execute_result"
    }
   ],
   "source": [
    "\"\"\"\n",
    "# LDA\n",
    "clf = LinearDiscriminantAnalysis()\n",
    "clf.fit(X_train_new_scaled, y_train_new)\n",
    "y_pred = clf.predict(X_valid_scaled)\n",
    "\"\"\""
   ]
  },
  {
   "cell_type": "code",
   "execution_count": null,
   "id": "8fcdf1ae-d7f2-4838-a2ec-a00287223869",
   "metadata": {
    "gradient": {
     "editing": true,
     "execution_count": 41,
     "id": "8fcdf1ae-d7f2-4838-a2ec-a00287223869",
     "kernelId": "1320fa5a-1933-4a5e-a640-3b7e7cc15806",
     "source_hidden": false
    }
   },
   "outputs": [
    {
     "name": "stderr",
     "output_type": "stream",
     "text": [
      "\u001b[32m[I 2022-01-09 02:24:04,595]\u001b[0m A new study created in memory with name: no-name-9f9092bf-59fe-49b6-bf46-5b143475955d\u001b[0m\n",
      "Custom logger is already specified. Specify more than one logger at same time is not thread safe."
     ]
    },
    {
     "name": "stdout",
     "output_type": "stream",
     "text": [
      "0:\tlearn: 0.6149432\ttest: 0.6091376\tbest: 0.6091376 (0)\ttotal: 425ms\tremaining: 10m 36s\n",
      "100:\tlearn: 0.6443543\ttest: 0.6355245\tbest: 0.6355245 (100)\ttotal: 40.3s\tremaining: 9m 18s\n",
      "200:\tlearn: 0.6544510\ttest: 0.6389957\tbest: 0.6390245 (198)\ttotal: 1m 17s\tremaining: 8m 19s\n",
      "300:\tlearn: 0.6599923\ttest: 0.6416365\tbest: 0.6418404 (285)\ttotal: 1m 53s\tremaining: 7m 31s\n",
      "400:\tlearn: 0.6638454\ttest: 0.6419247\tbest: 0.6421869 (398)\ttotal: 2m 28s\tremaining: 6m 47s\n",
      "500:\tlearn: 0.6670736\ttest: 0.6414427\tbest: 0.6422221 (445)\ttotal: 3m 4s\tremaining: 6m 6s\n",
      "bestTest = 0.6422220533\n",
      "bestIteration = 445\n",
      "Shrink model to first 446 iterations.\n"
     ]
    },
    {
     "name": "stderr",
     "output_type": "stream",
     "text": [
      "\u001b[32m[I 2022-01-09 02:27:38,187]\u001b[0m Trial 0 finished with value: 0.6798243557889143 and parameters: {'objective': 'CrossEntropy', 'depth': 8, 'boosting_type': 'Plain', 'bootstrap_type': 'Bayesian', 'bagging_temperature': 3.1465067240707945}. Best is trial 0 with value: 0.6798243557889143.\u001b[0m\n"
     ]
    },
    {
     "name": "stdout",
     "output_type": "stream",
     "text": [
      "Learning rate set to 0.035806\n",
      "0:\tlearn: 0.6260208\ttest: 0.6188905\tbest: 0.6188905 (0)\ttotal: 430ms\tremaining: 10m 44s\n",
      "100:\tlearn: 0.6483861\ttest: 0.6358138\tbest: 0.6367405 (92)\ttotal: 42.4s\tremaining: 9m 46s\n",
      "200:\tlearn: 0.6593713\ttest: 0.6403016\tbest: 0.6403016 (200)\ttotal: 1m 20s\tremaining: 8m 40s\n",
      "300:\tlearn: 0.6680079\ttest: 0.6387173\tbest: 0.6403016 (200)\ttotal: 1m 58s\tremaining: 7m 51s\n",
      "bestTest = 0.6403016051\n",
      "bestIteration = 200\n",
      "Shrink model to first 201 iterations.\n"
     ]
    },
    {
     "name": "stderr",
     "output_type": "stream",
     "text": [
      "\u001b[32m[I 2022-01-09 02:30:00,375]\u001b[0m Trial 1 finished with value: 0.6788711381861131 and parameters: {'objective': 'Logloss', 'depth': 8, 'boosting_type': 'Plain', 'bootstrap_type': 'Bernoulli', 'subsample': 0.22690774940257433}. Best is trial 0 with value: 0.6798243557889143.\u001b[0m\n"
     ]
    },
    {
     "name": "stdout",
     "output_type": "stream",
     "text": [
      "0:\tlearn: 0.6032735\ttest: 0.5973628\tbest: 0.5973628 (0)\ttotal: 279ms\tremaining: 6m 57s\n",
      "100:\tlearn: 0.6152436\ttest: 0.6099400\tbest: 0.6153208 (37)\ttotal: 33.4s\tremaining: 7m 43s\n",
      "bestTest = 0.6153207915\n",
      "bestIteration = 37\n",
      "Shrink model to first 38 iterations.\n"
     ]
    },
    {
     "name": "stderr",
     "output_type": "stream",
     "text": [
      "\u001b[32m[I 2022-01-09 02:30:59,780]\u001b[0m Trial 2 finished with value: 0.6604819733318908 and parameters: {'objective': 'CrossEntropy', 'depth': 9, 'boosting_type': 'Plain', 'bootstrap_type': 'MVS'}. Best is trial 0 with value: 0.6798243557889143.\u001b[0m\n"
     ]
    },
    {
     "name": "stdout",
     "output_type": "stream",
     "text": [
      "0:\tlearn: 0.6032735\ttest: 0.5973628\tbest: 0.5973628 (0)\ttotal: 277ms\tremaining: 6m 55s\n",
      "100:\tlearn: 0.6094925\ttest: 0.6021936\tbest: 0.6108221 (33)\ttotal: 31.9s\tremaining: 7m 22s\n",
      "bestTest = 0.6108221355\n",
      "bestIteration = 33\n",
      "Shrink model to first 34 iterations.\n"
     ]
    },
    {
     "name": "stderr",
     "output_type": "stream",
     "text": [
      "\u001b[32m[I 2022-01-09 02:31:55,427]\u001b[0m Trial 3 finished with value: 0.6581744400102122 and parameters: {'objective': 'CrossEntropy', 'depth': 8, 'boosting_type': 'Plain', 'bootstrap_type': 'MVS'}. Best is trial 0 with value: 0.6798243557889143.\u001b[0m\n"
     ]
    },
    {
     "name": "stdout",
     "output_type": "stream",
     "text": [
      "0:\tlearn: 0.6304071\ttest: 0.6280418\tbest: 0.6280418 (0)\ttotal: 381ms\tremaining: 9m 31s\n",
      "100:\tlearn: 0.6450371\ttest: 0.6360596\tbest: 0.6369465 (91)\ttotal: 37s\tremaining: 8m 33s\n",
      "200:\tlearn: 0.6546641\ttest: 0.6385839\tbest: 0.6387359 (193)\ttotal: 1m 10s\tremaining: 7m 36s\n",
      "300:\tlearn: 0.6606834\ttest: 0.6362225\tbest: 0.6387431 (202)\ttotal: 1m 42s\tremaining: 6m 50s\n",
      "bestTest = 0.6387430557\n",
      "bestIteration = 202\n",
      "Shrink model to first 203 iterations.\n"
     ]
    },
    {
     "name": "stderr",
     "output_type": "stream",
     "text": [
      "\u001b[32m[I 2022-01-09 02:33:53,131]\u001b[0m Trial 4 finished with value: 0.6783993555283583 and parameters: {'objective': 'CrossEntropy', 'depth': 6, 'boosting_type': 'Plain', 'bootstrap_type': 'Bayesian', 'bagging_temperature': 0.6000035041529983}. Best is trial 0 with value: 0.6798243557889143.\u001b[0m\n"
     ]
    },
    {
     "name": "stdout",
     "output_type": "stream",
     "text": [
      "0:\tlearn: 0.6015616\ttest: 0.5991062\tbest: 0.5991062 (0)\ttotal: 273ms\tremaining: 6m 49s\n",
      "100:\tlearn: 0.6360464\ttest: 0.6317547\tbest: 0.6317547 (100)\ttotal: 28.7s\tremaining: 6m 37s\n",
      "200:\tlearn: 0.6429554\ttest: 0.6354763\tbest: 0.6359273 (185)\ttotal: 57.3s\tremaining: 6m 10s\n",
      "300:\tlearn: 0.6463201\ttest: 0.6369648\tbest: 0.6372588 (287)\ttotal: 1m 25s\tremaining: 5m 42s\n",
      "400:\tlearn: 0.6485787\ttest: 0.6376757\tbest: 0.6383719 (364)\ttotal: 1m 54s\tremaining: 5m 12s\n",
      "500:\tlearn: 0.6508125\ttest: 0.6392620\tbest: 0.6394679 (490)\ttotal: 2m 22s\tremaining: 4m 44s\n",
      "bestTest = 0.6394678996\n",
      "bestIteration = 490\n",
      "Shrink model to first 491 iterations.\n"
     ]
    },
    {
     "name": "stderr",
     "output_type": "stream",
     "text": [
      "\u001b[32m[I 2022-01-09 02:36:56,440]\u001b[0m Trial 5 finished with value: 0.677576979756457 and parameters: {'objective': 'CrossEntropy', 'depth': 4, 'boosting_type': 'Plain', 'bootstrap_type': 'Bayesian', 'bagging_temperature': 3.5326465061516354}. Best is trial 0 with value: 0.6798243557889143.\u001b[0m\n"
     ]
    },
    {
     "name": "stdout",
     "output_type": "stream",
     "text": [
      "0:\tlearn: 0.6159229\ttest: 0.6094521\tbest: 0.6094521 (0)\ttotal: 520ms\tremaining: 12m 59s\n",
      "100:\tlearn: 0.6400130\ttest: 0.6327111\tbest: 0.6327892 (99)\ttotal: 43.7s\tremaining: 10m 5s\n",
      "200:\tlearn: 0.6485861\ttest: 0.6374577\tbest: 0.6382891 (193)\ttotal: 1m 26s\tremaining: 9m 17s\n",
      "300:\tlearn: 0.6543611\ttest: 0.6379613\tbest: 0.6388104 (226)\ttotal: 2m 9s\tremaining: 8m 34s\n",
      "bestTest = 0.6388103585\n",
      "bestIteration = 226\n",
      "Shrink model to first 227 iterations.\n"
     ]
    },
    {
     "name": "stderr",
     "output_type": "stream",
     "text": [
      "\u001b[32m[I 2022-01-09 02:39:30,771]\u001b[0m Trial 6 finished with value: 0.6765615905400851 and parameters: {'objective': 'CrossEntropy', 'depth': 6, 'boosting_type': 'Ordered', 'bootstrap_type': 'MVS'}. Best is trial 0 with value: 0.6798243557889143.\u001b[0m\n"
     ]
    },
    {
     "name": "stdout",
     "output_type": "stream",
     "text": [
      "0:\tlearn: 0.6286690\ttest: 0.6219632\tbest: 0.6219632 (0)\ttotal: 1.31s\tremaining: 32m 46s\n",
      "100:\tlearn: 0.6487968\ttest: 0.6388061\tbest: 0.6392643 (97)\ttotal: 1m 54s\tremaining: 26m 24s\n",
      "200:\tlearn: 0.6573866\ttest: 0.6389670\tbest: 0.6400135 (144)\ttotal: 3m 37s\tremaining: 23m 22s\n",
      "bestTest = 0.6400134826\n",
      "bestIteration = 144\n",
      "Shrink model to first 145 iterations.\n"
     ]
    },
    {
     "name": "stderr",
     "output_type": "stream",
     "text": [
      "\u001b[32m[I 2022-01-09 02:44:11,412]\u001b[0m Trial 7 finished with value: 0.6769838856795378 and parameters: {'objective': 'CrossEntropy', 'depth': 9, 'boosting_type': 'Ordered', 'bootstrap_type': 'Bayesian', 'bagging_temperature': 3.175945833221615}. Best is trial 0 with value: 0.6798243557889143.\u001b[0m\n"
     ]
    },
    {
     "name": "stdout",
     "output_type": "stream",
     "text": [
      "Learning rate set to 0.035806\n",
      "0:\tlearn: 0.6133010\ttest: 0.6080160\tbest: 0.6080160 (0)\ttotal: 632ms\tremaining: 15m 46s\n",
      "100:\tlearn: 0.6428432\ttest: 0.6356681\tbest: 0.6361265 (96)\ttotal: 52.7s\tremaining: 12m 10s\n",
      "200:\tlearn: 0.6523121\ttest: 0.6384052\tbest: 0.6387673 (189)\ttotal: 1m 41s\tremaining: 10m 56s\n",
      "300:\tlearn: 0.6568874\ttest: 0.6377360\tbest: 0.6390101 (221)\ttotal: 2m 30s\tremaining: 10m\n",
      "bestTest = 0.6390101067\n",
      "bestIteration = 221\n",
      "Shrink model to first 222 iterations.\n"
     ]
    },
    {
     "name": "stderr",
     "output_type": "stream",
     "text": [
      "\u001b[32m[I 2022-01-09 02:47:06,552]\u001b[0m Trial 8 finished with value: 0.6767026417774483 and parameters: {'objective': 'Logloss', 'depth': 7, 'boosting_type': 'Ordered', 'bootstrap_type': 'MVS'}. Best is trial 0 with value: 0.6798243557889143.\u001b[0m\n"
     ]
    },
    {
     "name": "stdout",
     "output_type": "stream",
     "text": [
      "Learning rate set to 0.035806\n",
      "0:\tlearn: 0.6166370\ttest: 0.6083706\tbest: 0.6083706 (0)\ttotal: 606ms\tremaining: 15m 8s\n",
      "100:\tlearn: 0.6468653\ttest: 0.6370442\tbest: 0.6370442 (100)\ttotal: 60s\tremaining: 13m 50s\n",
      "200:\tlearn: 0.6567563\ttest: 0.6352796\tbest: 0.6374523 (133)\ttotal: 1m 55s\tremaining: 12m 28s\n",
      "bestTest = 0.6374523063\n",
      "bestIteration = 133\n",
      "Shrink model to first 134 iterations.\n"
     ]
    },
    {
     "name": "stderr",
     "output_type": "stream",
     "text": [
      "\u001b[32m[I 2022-01-09 02:49:34,446]\u001b[0m Trial 9 finished with value: 0.6765171179750257 and parameters: {'objective': 'Logloss', 'depth': 7, 'boosting_type': 'Ordered', 'bootstrap_type': 'Bernoulli', 'subsample': 0.21848870687062066}. Best is trial 0 with value: 0.6798243557889143.\u001b[0m\n"
     ]
    }
   ],
   "source": [
    "# Hyperparameter Tuning with Optuna\n",
    "cat_features = [col for col in X_train.columns if X_train[col].nunique() > 2]\n",
    "\n",
    "def objective(trial):\n",
    "    \n",
    "    param = {\n",
    "        \"objective\": trial.suggest_categorical(\"objective\", [\"CrossEntropy\",\"Logloss\"]),\n",
    "        #\"colsample_bylevel\": trial.suggest_float(\"colsample_bylevel\", 0.01, 0.1),\n",
    "        \"depth\": trial.suggest_int(\"depth\", 3,9),\n",
    "        \"boosting_type\": trial.suggest_categorical(\"boosting_type\", [\"Ordered\",\"Plain\"]),\n",
    "        \"bootstrap_type\": trial.suggest_categorical(\n",
    "            \"bootstrap_type\", [\"Bernoulli\",\"Bayesian\",\"MVS\"]\n",
    "        ),\n",
    "        #\"used_ram_limit\": \"3gb\",\n",
    "    }\n",
    "\n",
    "    if param[\"bootstrap_type\"] == \"Bayesian\":\n",
    "        param[\"bagging_temperature\"] = trial.suggest_float(\"bagging_temperature\", 0, 10)\n",
    "    elif param[\"bootstrap_type\"] == \"Bernoulli\":\n",
    "        param[\"subsample\"] = trial.suggest_float(\"subsample\", 0.2, 0.4)\n",
    "\n",
    "    model = CatBoostClassifier(iterations=1500, task_type='GPU', cat_features=cat_features, eval_metric='F1', **param)\n",
    "\n",
    "    model.fit(X_train_new,y_train_new, eval_set=[(X_valid,y_valid)], verbose=100, early_stopping_rounds=100)\n",
    "\n",
    "    proba_pred = model.predict_proba(X_valid)[:,1]\n",
    "    y_pred = np.where(proba_pred > 0.4, 1, 0)\n",
    "\n",
    "    f1 = f1_score(y_valid, y_pred)\n",
    "    return f1\n",
    "\n",
    "study = optuna.create_study(direction=\"maximize\")\n",
    "study.optimize(objective, n_trials=10, timeout=3000)"
   ]
  },
  {
   "cell_type": "code",
   "execution_count": null,
   "id": "w4bR_vmsniUh",
   "metadata": {
    "colab": {
     "base_uri": "https://localhost:8080/"
    },
    "gradient": {
     "editing": false,
     "execution_count": 42,
     "id": "w4bR_vmsniUh",
     "kernelId": "1320fa5a-1933-4a5e-a640-3b7e7cc15806"
    },
    "id": "w4bR_vmsniUh",
    "outputId": "0032b9bd-c177-442b-f213-18115e0c07d5"
   },
   "outputs": [
    {
     "name": "stdout",
     "output_type": "stream",
     "text": [
      "Learning rate set to 0.035806\n",
      "0:\tlearn: 0.6248271\ttest: 0.6134829\tbest: 0.6134829 (0)\ttotal: 649ms\tremaining: 16m 12s\n",
      "100:\tlearn: 0.6583361\ttest: 0.6347968\tbest: 0.6349393 (97)\ttotal: 55.4s\tremaining: 12m 47s\n",
      "200:\tlearn: 0.6735172\ttest: 0.6373127\tbest: 0.6376276 (199)\ttotal: 1m 45s\tremaining: 11m 21s\n",
      "300:\tlearn: 0.6860114\ttest: 0.6383435\tbest: 0.6384902 (299)\ttotal: 2m 35s\tremaining: 10m 17s\n",
      "400:\tlearn: 0.6957996\ttest: 0.6386723\tbest: 0.6389598 (317)\ttotal: 3m 24s\tremaining: 9m 20s\n",
      "bestTest = 0.6389598238\n",
      "bestIteration = 317\n",
      "Shrink model to first 318 iterations.\n"
     ]
    },
    {
     "data": {
      "text/plain": [
       "<catboost.core.CatBoostClassifier at 0x7f41f085ffd0>"
      ]
     },
     "execution_count": 42,
     "metadata": {},
     "output_type": "execute_result"
    }
   ],
   "source": [
    "cat_features = [col for col in X_train.columns if X_train[col].nunique() > 2]\n",
    "\n",
    "model = CatBoostClassifier(iterations=1500, random_state=42, eval_metric='F1', task_type='GPU'\n",
    "                            , cat_features=cat_features, one_hot_max_size=4, objective='Logloss', depth=10, boosting_type='Plain'\n",
    "                            , bootstrap_type='Bernoulli', subsample=0.3)\n",
    "model.fit(X_train_new, y_train_new, eval_set=(X_valid,y_valid), early_stopping_rounds=100, verbose=100)\n"
   ]
  },
  {
   "cell_type": "code",
   "execution_count": null,
   "id": "IrbaSikqrE0y",
   "metadata": {
    "gradient": {
     "editing": false,
     "execution_count": 40,
     "id": "IrbaSikqrE0y",
     "kernelId": "1320fa5a-1933-4a5e-a640-3b7e7cc15806"
    },
    "id": "IrbaSikqrE0y"
   },
   "outputs": [],
   "source": [
    "proba_pred = model.predict_proba(X_valid)[:,1]\n",
    "y_pred = np.where(proba_pred > 0.3, 1, 0)"
   ]
  },
  {
   "cell_type": "code",
   "execution_count": null,
   "id": "83f79c43",
   "metadata": {
    "colab": {
     "base_uri": "https://localhost:8080/"
    },
    "gradient": {
     "editing": false,
     "execution_count": 41,
     "id": "83f79c43",
     "kernelId": "1320fa5a-1933-4a5e-a640-3b7e7cc15806"
    },
    "id": "83f79c43",
    "outputId": "2a5439ea-8845-475f-a0b1-f32cb6de02e6"
   },
   "outputs": [
    {
     "data": {
      "text/plain": [
       "0.6684078910808559"
      ]
     },
     "execution_count": 41,
     "metadata": {},
     "output_type": "execute_result"
    }
   ],
   "source": [
    "f1_score(y_pred, y_valid)"
   ]
  },
  {
   "cell_type": "code",
   "execution_count": null,
   "id": "c11b2aec",
   "metadata": {
    "gradient": {
     "editing": false,
     "execution_count": 18,
     "id": "c11b2aec",
     "kernelId": "1320fa5a-1933-4a5e-a640-3b7e7cc15806"
    },
    "id": "c11b2aec"
   },
   "outputs": [],
   "source": [
    "submission = pd.DataFrame([X_test.index, y_pred]).T \n",
    "submission.columns = ['id','target']\n",
    "submission.set_index('id', inplace=True)\n",
    "submission\n",
    "submission.to_csv('submission.csv')"
   ]
  }
 ],
 "metadata": {
  "accelerator": "GPU",
  "colab": {
   "name": "job1.ipynb",
   "provenance": []
  },
  "kernelspec": {
   "display_name": "Python 3",
   "language": "python",
   "name": "python3"
  },
  "language_info": {
   "codemirror_mode": {
    "name": "ipython",
    "version": 3
   },
   "file_extension": ".py",
   "mimetype": "text/x-python",
   "name": "python",
   "nbconvert_exporter": "python",
   "pygments_lexer": "ipython3",
   "version": "3.7.11"
  }
 },
 "nbformat": 4,
 "nbformat_minor": 5
}
